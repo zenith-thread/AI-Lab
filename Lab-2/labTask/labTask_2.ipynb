{
  "nbformat": 4,
  "nbformat_minor": 0,
  "metadata": {
    "colab": {
      "provenance": []
    },
    "kernelspec": {
      "name": "python3",
      "display_name": "Python 3"
    },
    "language_info": {
      "name": "python"
    }
  },
  "cells": [
    {
      "cell_type": "markdown",
      "source": [
        "# Problem 1\n",
        "\n",
        "Imagine a single-floor office building with a fire alarm system that is controlled by a simple reflex agent.\n",
        "The system has smoke detectors and temperature sensors placed throughout the building to detect any\n",
        "signs of fire.\n",
        "The agent's rules are as follows:\n",
        "\n",
        "1.   If smoke is detected, the alarm will sound, and the sprinkler system will activate to put out the fire.\n",
        "2.   If a high temperature is detected, the alarm will sound, and the fire department will be called.\n",
        "3.   If neither smoke nor high temperature are detected, the system remains in its normal state with the alarm off and the sprinkler system deactivated.\n",
        "\n",
        "\n",
        "The goal of the agent is to keep the building and its occupants safe by quickly and efficiently responding\n",
        "to any signs of fire. Write a program to develop a simple reflex agent."
      ],
      "metadata": {
        "id": "l8YDpCnlomNM"
      }
    },
    {
      "cell_type": "code",
      "execution_count": null,
      "metadata": {
        "colab": {
          "base_uri": "https://localhost:8080/"
        },
        "id": "Z8ODrdq-ojop",
        "outputId": "cd2a7143-00e9-4830-9e6f-9bc4988d8d94"
      },
      "outputs": [
        {
          "output_type": "stream",
          "name": "stdout",
          "text": [
            "What do you detect? (Enter 'smoke', 'high temperature', or 'none'): smoke\n",
            "Fire detected! Alarm activated. Sprinkler system activated.\n",
            "Perception count: 1\n",
            "What do you detect? (Enter 'smoke', 'high temperature', or 'none'): high temperature\n",
            "High temperature detected! Alarm activated. Calling the fire department.\n",
            "Perception count: 2\n",
            "What do you detect? (Enter 'smoke', 'high temperature', or 'none'): none\n",
            "Perception count: 3\n",
            "What do you detect? (Enter 'smoke', 'high temperature', or 'none'): none\n",
            "Perception count: 4\n",
            "What do you detect? (Enter 'smoke', 'high temperature', or 'none'): none\n",
            "Perception count: 5\n",
            "What do you detect? (Enter 'smoke', 'high temperature', or 'none'): none\n",
            "Perception count: 6\n",
            "What do you detect? (Enter 'smoke', 'high temperature', or 'none'): none\n",
            "Perception count: 7\n",
            "What do you detect? (Enter 'smoke', 'high temperature', or 'none'): none\n",
            "Perception count: 8\n",
            "What do you detect? (Enter 'smoke', 'high temperature', or 'none'): none\n",
            "Perception count: 9\n",
            "What do you detect? (Enter 'smoke', 'high temperature', or 'none'): smoke\n",
            "Fire detected! Alarm activated. Sprinkler system activated.\n",
            "Perception count: 10\n"
          ]
        }
      ],
      "source": [
        "class FireAlarmSystem:\n",
        "    def __init__(self):\n",
        "        self.smoke_detected = False\n",
        "        self.high_temperature = False\n",
        "        self.alarm_activated = False\n",
        "        self.sprinkler_activated = False\n",
        "\n",
        "    def detect_smoke(self):\n",
        "        self.smoke_detected = True\n",
        "        self.activate_alarm_and_sprinkler()\n",
        "\n",
        "    def detect_high_temperature(self):\n",
        "        self.high_temperature = True\n",
        "        self.activate_alarm_and_call_fire_department()\n",
        "\n",
        "    def reset_system(self):\n",
        "        self.smoke_detected = False\n",
        "        self.high_temperature = False\n",
        "        self.alarm_activated = False\n",
        "        self.sprinkler_activated = False\n",
        "\n",
        "    def activate_alarm_and_sprinkler(self):\n",
        "        self.alarm_activated = True\n",
        "        self.sprinkler_activated = True\n",
        "        print(\"Fire detected! Alarm activated. Sprinkler system activated.\")\n",
        "\n",
        "    def activate_alarm_and_call_fire_department(self):\n",
        "        self.alarm_activated = True\n",
        "        print(\"High temperature detected! Alarm activated. Calling the fire department.\")\n",
        "\n",
        "class SimpleReflexAgent:\n",
        "    def __init__(self, fire_system):\n",
        "        self.fire_system = fire_system\n",
        "\n",
        "    def perceive_environment(self):\n",
        "        visual_input = input(\"What do you detect? (Enter 'smoke', 'high temperature', or 'none'): \")\n",
        "        return visual_input.lower()\n",
        "\n",
        "    def act_on_percept(self, percept):\n",
        "        if percept == 'smoke':\n",
        "            self.fire_system.detect_smoke()\n",
        "        elif percept == 'high temperature':\n",
        "            self.fire_system.detect_high_temperature()\n",
        "        else:\n",
        "            self.fire_system.reset_system()\n",
        "\n",
        "def main():\n",
        "    fire_system = FireAlarmSystem()\n",
        "    agent = SimpleReflexAgent(fire_system)\n",
        "\n",
        "    perceptionCount = 0\n",
        "    while perceptionCount < 10:\n",
        "        percept = agent.perceive_environment()\n",
        "        agent.act_on_percept(percept)\n",
        "\n",
        "        # Simulate execution of the agent's actions\n",
        "        perceptionCount += 1\n",
        "        print(f\"Perception count: {perceptionCount}\")\n",
        "\n",
        "if __name__ == \"__main__\":\n",
        "    main()\n"
      ]
    },
    {
      "cell_type": "markdown",
      "source": [
        "# Problem 2\n",
        "\n",
        "An Automatic Watering System is set up in a greenhouse. The system has sensors that detect the moisture\n",
        "level in the soil, and a control unit that operates the watering system. The task of the simple reflex agent\n",
        "program is to control the watering system based on the moisture level of the soil.\n",
        "Percepts: Moisture level sensor States: Dry soil, Moist soil, Wet soil Rules:\n",
        "\n",
        "1. If the moisture level sensor detects dry soil, the agent activates the watering system to\n",
        "water the plants.\n",
        "2. If the moisture level sensor detects moist soil, the agent keeps the watering system off\n",
        "to avoid overwatering the plants.\n",
        "3. If the moisture level sensor detects wet soil, the agent deactivates the watering system\n",
        "to prevent waterlogging."
      ],
      "metadata": {
        "id": "qKpSg-EZpJ0e"
      }
    },
    {
      "cell_type": "code",
      "source": [
        "class WateringSystem:\n",
        "    def __init__(self):\n",
        "        self.moisture_level = None\n",
        "        self.watering_system_activated = False\n",
        "\n",
        "    def detect_dry_soil(self):\n",
        "        self.moisture_level = 'Dry soil'\n",
        "        self.activate_watering_system()\n",
        "\n",
        "    def detect_moist_soil(self):\n",
        "        self.moisture_level = 'Moist soil'\n",
        "        self.deactivate_watering_system()\n",
        "\n",
        "    def detect_wet_soil(self):\n",
        "        self.moisture_level = 'Wet soil'\n",
        "        self.deactivate_watering_system()\n",
        "\n",
        "    def activate_watering_system(self):\n",
        "        self.watering_system_activated = True\n",
        "        print(\"Dry soil detected! Watering system activated.\")\n",
        "\n",
        "    def deactivate_watering_system(self):\n",
        "        self.watering_system_activated = False\n",
        "        print(f\"{self.moisture_level} detected. Watering system deactivated.\")\n",
        "\n",
        "class SimpleReflexAgent:\n",
        "    def __init__(self, watering_system):\n",
        "        self.watering_system = watering_system\n",
        "\n",
        "    def perceive_environment(self):\n",
        "        moisture_level_input = input(\"What is the moisture level of the soil? (Enter 'dry', 'moist', or 'wet'): \")\n",
        "        return moisture_level_input.lower()\n",
        "\n",
        "    def act_on_percept(self, moisture_level):\n",
        "        if moisture_level == 'dry':\n",
        "            self.watering_system.detect_dry_soil()\n",
        "        elif moisture_level == 'moist':\n",
        "            self.watering_system.detect_moist_soil()\n",
        "        elif moisture_level == 'wet':\n",
        "            self.watering_system.detect_wet_soil()\n",
        "\n",
        "def main():\n",
        "    watering_system = WateringSystem()\n",
        "    agent = SimpleReflexAgent(watering_system)\n",
        "\n",
        "    iteration = 0\n",
        "    while iteration < 5:  # Simulate for 5 iterations\n",
        "        moisture_level = agent.perceive_environment()\n",
        "        agent.act_on_percept(moisture_level)\n",
        "\n",
        "        # Simulate monitoring and adjustment of the watering system\n",
        "        iteration += 1\n",
        "        print(f\"Iteration: {iteration}\")\n",
        "\n",
        "if __name__ == \"__main__\":\n",
        "    main()"
      ],
      "metadata": {
        "colab": {
          "base_uri": "https://localhost:8080/"
        },
        "id": "MNAluinRolcK",
        "outputId": "8da83b81-50d1-478f-a43b-b4e3cd130118"
      },
      "execution_count": null,
      "outputs": [
        {
          "output_type": "stream",
          "name": "stdout",
          "text": [
            "What is the moisture level of the soil? (Enter 'dry', 'moist', or 'wet'): dry\n",
            "Dry soil detected! Watering system activated.\n",
            "Iteration: 1\n",
            "What is the moisture level of the soil? (Enter 'dry', 'moist', or 'wet'): moist\n",
            "Moist soil detected. Watering system deactivated.\n",
            "Iteration: 2\n",
            "What is the moisture level of the soil? (Enter 'dry', 'moist', or 'wet'): dry\n",
            "Dry soil detected! Watering system activated.\n",
            "Iteration: 3\n",
            "What is the moisture level of the soil? (Enter 'dry', 'moist', or 'wet'): moist\n",
            "Moist soil detected. Watering system deactivated.\n",
            "Iteration: 4\n",
            "What is the moisture level of the soil? (Enter 'dry', 'moist', or 'wet'): moist\n",
            "Moist soil detected. Watering system deactivated.\n",
            "Iteration: 5\n"
          ]
        }
      ]
    }
  ]
}